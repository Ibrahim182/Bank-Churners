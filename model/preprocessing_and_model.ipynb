{
  "cells": [
    {
      "cell_type": "markdown",
      "id": "29bb355e",
      "metadata": {
        "id": "29bb355e"
      },
      "source": [
        "# Libraries"
      ]
    },
    {
      "cell_type": "code",
      "execution_count": 1,
      "id": "237ee609",
      "metadata": {
        "execution": {
          "iopub.execute_input": "2022-05-17T09:49:45.720078Z",
          "iopub.status.busy": "2022-05-17T09:49:45.719417Z",
          "iopub.status.idle": "2022-05-17T09:49:59.889395Z",
          "shell.execute_reply": "2022-05-17T09:49:59.888453Z"
        },
        "id": "237ee609",
        "papermill": {
          "duration": 14.206782,
          "end_time": "2022-05-17T09:49:59.891943",
          "exception": false,
          "start_time": "2022-05-17T09:49:45.685161",
          "status": "completed"
        },
        "tags": [],
        "colab": {
          "base_uri": "https://localhost:8080/"
        },
        "outputId": "d1d7a5fc-db98-4bec-e9a4-21a54dcaacaf"
      },
      "outputs": [
        {
          "output_type": "stream",
          "name": "stdout",
          "text": [
            "Looking in indexes: https://pypi.org/simple, https://us-python.pkg.dev/colab-wheels/public/simple/\n",
            "Collecting datasist\n",
            "  Downloading datasist-1.5.3-py3-none-any.whl (33 kB)\n",
            "Collecting jupyter\n",
            "  Downloading jupyter-1.0.0-py2.py3-none-any.whl (2.7 kB)\n",
            "Requirement already satisfied: scikit-learn in /usr/local/lib/python3.7/dist-packages (from datasist) (1.0.2)\n",
            "Requirement already satisfied: Joblib in /usr/local/lib/python3.7/dist-packages (from datasist) (1.1.0)\n",
            "Requirement already satisfied: nltk in /usr/local/lib/python3.7/dist-packages (from datasist) (3.7)\n",
            "Requirement already satisfied: pandas in /usr/local/lib/python3.7/dist-packages (from datasist) (1.3.5)\n",
            "Requirement already satisfied: numpy in /usr/local/lib/python3.7/dist-packages (from datasist) (1.21.6)\n",
            "Requirement already satisfied: matplotlib in /usr/local/lib/python3.7/dist-packages (from datasist) (3.2.2)\n",
            "Requirement already satisfied: seaborn in /usr/local/lib/python3.7/dist-packages (from datasist) (0.11.2)\n",
            "Requirement already satisfied: ipywidgets in /usr/local/lib/python3.7/dist-packages (from jupyter->datasist) (7.7.1)\n",
            "Requirement already satisfied: jupyter-console in /usr/local/lib/python3.7/dist-packages (from jupyter->datasist) (6.1.0)\n",
            "Requirement already satisfied: ipykernel in /usr/local/lib/python3.7/dist-packages (from jupyter->datasist) (5.3.4)\n",
            "Requirement already satisfied: nbconvert in /usr/local/lib/python3.7/dist-packages (from jupyter->datasist) (5.6.1)\n",
            "Collecting qtconsole\n",
            "  Downloading qtconsole-5.3.2-py3-none-any.whl (120 kB)\n",
            "\u001b[K     |████████████████████████████████| 120 kB 7.9 MB/s \n",
            "\u001b[?25hRequirement already satisfied: notebook in /usr/local/lib/python3.7/dist-packages (from jupyter->datasist) (5.3.1)\n",
            "Requirement already satisfied: jupyter-client in /usr/local/lib/python3.7/dist-packages (from ipykernel->jupyter->datasist) (6.1.12)\n",
            "Requirement already satisfied: traitlets>=4.1.0 in /usr/local/lib/python3.7/dist-packages (from ipykernel->jupyter->datasist) (5.1.1)\n",
            "Requirement already satisfied: tornado>=4.2 in /usr/local/lib/python3.7/dist-packages (from ipykernel->jupyter->datasist) (5.1.1)\n",
            "Requirement already satisfied: ipython>=5.0.0 in /usr/local/lib/python3.7/dist-packages (from ipykernel->jupyter->datasist) (7.9.0)\n",
            "Requirement already satisfied: setuptools>=18.5 in /usr/local/lib/python3.7/dist-packages (from ipython>=5.0.0->ipykernel->jupyter->datasist) (57.4.0)\n",
            "Collecting jedi>=0.10\n",
            "  Downloading jedi-0.18.1-py2.py3-none-any.whl (1.6 MB)\n",
            "\u001b[K     |████████████████████████████████| 1.6 MB 40.8 MB/s \n",
            "\u001b[?25hRequirement already satisfied: pygments in /usr/local/lib/python3.7/dist-packages (from ipython>=5.0.0->ipykernel->jupyter->datasist) (2.6.1)\n",
            "Requirement already satisfied: backcall in /usr/local/lib/python3.7/dist-packages (from ipython>=5.0.0->ipykernel->jupyter->datasist) (0.2.0)\n",
            "Requirement already satisfied: pexpect in /usr/local/lib/python3.7/dist-packages (from ipython>=5.0.0->ipykernel->jupyter->datasist) (4.8.0)\n",
            "Requirement already satisfied: pickleshare in /usr/local/lib/python3.7/dist-packages (from ipython>=5.0.0->ipykernel->jupyter->datasist) (0.7.5)\n",
            "Requirement already satisfied: decorator in /usr/local/lib/python3.7/dist-packages (from ipython>=5.0.0->ipykernel->jupyter->datasist) (4.4.2)\n",
            "Requirement already satisfied: prompt-toolkit<2.1.0,>=2.0.0 in /usr/local/lib/python3.7/dist-packages (from ipython>=5.0.0->ipykernel->jupyter->datasist) (2.0.10)\n",
            "Requirement already satisfied: parso<0.9.0,>=0.8.0 in /usr/local/lib/python3.7/dist-packages (from jedi>=0.10->ipython>=5.0.0->ipykernel->jupyter->datasist) (0.8.3)\n",
            "Requirement already satisfied: wcwidth in /usr/local/lib/python3.7/dist-packages (from prompt-toolkit<2.1.0,>=2.0.0->ipython>=5.0.0->ipykernel->jupyter->datasist) (0.2.5)\n",
            "Requirement already satisfied: six>=1.9.0 in /usr/local/lib/python3.7/dist-packages (from prompt-toolkit<2.1.0,>=2.0.0->ipython>=5.0.0->ipykernel->jupyter->datasist) (1.15.0)\n",
            "Requirement already satisfied: ipython-genutils~=0.2.0 in /usr/local/lib/python3.7/dist-packages (from ipywidgets->jupyter->datasist) (0.2.0)\n",
            "Requirement already satisfied: jupyterlab-widgets>=1.0.0 in /usr/local/lib/python3.7/dist-packages (from ipywidgets->jupyter->datasist) (3.0.2)\n",
            "Requirement already satisfied: widgetsnbextension~=3.6.0 in /usr/local/lib/python3.7/dist-packages (from ipywidgets->jupyter->datasist) (3.6.1)\n",
            "Requirement already satisfied: nbformat in /usr/local/lib/python3.7/dist-packages (from notebook->jupyter->datasist) (5.4.0)\n",
            "Requirement already satisfied: jinja2 in /usr/local/lib/python3.7/dist-packages (from notebook->jupyter->datasist) (2.11.3)\n",
            "Requirement already satisfied: Send2Trash in /usr/local/lib/python3.7/dist-packages (from notebook->jupyter->datasist) (1.8.0)\n",
            "Requirement already satisfied: terminado>=0.8.1 in /usr/local/lib/python3.7/dist-packages (from notebook->jupyter->datasist) (0.13.3)\n",
            "Requirement already satisfied: jupyter-core>=4.4.0 in /usr/local/lib/python3.7/dist-packages (from notebook->jupyter->datasist) (4.11.1)\n",
            "Requirement already satisfied: python-dateutil>=2.1 in /usr/local/lib/python3.7/dist-packages (from jupyter-client->ipykernel->jupyter->datasist) (2.8.2)\n",
            "Requirement already satisfied: pyzmq>=13 in /usr/local/lib/python3.7/dist-packages (from jupyter-client->ipykernel->jupyter->datasist) (23.2.1)\n",
            "Requirement already satisfied: ptyprocess in /usr/local/lib/python3.7/dist-packages (from terminado>=0.8.1->notebook->jupyter->datasist) (0.7.0)\n",
            "Requirement already satisfied: MarkupSafe>=0.23 in /usr/local/lib/python3.7/dist-packages (from jinja2->notebook->jupyter->datasist) (2.0.1)\n",
            "Requirement already satisfied: cycler>=0.10 in /usr/local/lib/python3.7/dist-packages (from matplotlib->datasist) (0.11.0)\n",
            "Requirement already satisfied: kiwisolver>=1.0.1 in /usr/local/lib/python3.7/dist-packages (from matplotlib->datasist) (1.4.4)\n",
            "Requirement already satisfied: pyparsing!=2.0.4,!=2.1.2,!=2.1.6,>=2.0.1 in /usr/local/lib/python3.7/dist-packages (from matplotlib->datasist) (3.0.9)\n",
            "Requirement already satisfied: typing-extensions in /usr/local/lib/python3.7/dist-packages (from kiwisolver>=1.0.1->matplotlib->datasist) (4.1.1)\n",
            "Requirement already satisfied: testpath in /usr/local/lib/python3.7/dist-packages (from nbconvert->jupyter->datasist) (0.6.0)\n",
            "Requirement already satisfied: defusedxml in /usr/local/lib/python3.7/dist-packages (from nbconvert->jupyter->datasist) (0.7.1)\n",
            "Requirement already satisfied: entrypoints>=0.2.2 in /usr/local/lib/python3.7/dist-packages (from nbconvert->jupyter->datasist) (0.4)\n",
            "Requirement already satisfied: mistune<2,>=0.8.1 in /usr/local/lib/python3.7/dist-packages (from nbconvert->jupyter->datasist) (0.8.4)\n",
            "Requirement already satisfied: pandocfilters>=1.4.1 in /usr/local/lib/python3.7/dist-packages (from nbconvert->jupyter->datasist) (1.5.0)\n",
            "Requirement already satisfied: bleach in /usr/local/lib/python3.7/dist-packages (from nbconvert->jupyter->datasist) (5.0.1)\n",
            "Requirement already satisfied: jsonschema>=2.6 in /usr/local/lib/python3.7/dist-packages (from nbformat->notebook->jupyter->datasist) (4.3.3)\n",
            "Requirement already satisfied: fastjsonschema in /usr/local/lib/python3.7/dist-packages (from nbformat->notebook->jupyter->datasist) (2.16.1)\n",
            "Requirement already satisfied: importlib-resources>=1.4.0 in /usr/local/lib/python3.7/dist-packages (from jsonschema>=2.6->nbformat->notebook->jupyter->datasist) (5.9.0)\n",
            "Requirement already satisfied: importlib-metadata in /usr/local/lib/python3.7/dist-packages (from jsonschema>=2.6->nbformat->notebook->jupyter->datasist) (4.12.0)\n",
            "Requirement already satisfied: pyrsistent!=0.17.0,!=0.17.1,!=0.17.2,>=0.14.0 in /usr/local/lib/python3.7/dist-packages (from jsonschema>=2.6->nbformat->notebook->jupyter->datasist) (0.18.1)\n",
            "Requirement already satisfied: attrs>=17.4.0 in /usr/local/lib/python3.7/dist-packages (from jsonschema>=2.6->nbformat->notebook->jupyter->datasist) (22.1.0)\n",
            "Requirement already satisfied: zipp>=3.1.0 in /usr/local/lib/python3.7/dist-packages (from importlib-resources>=1.4.0->jsonschema>=2.6->nbformat->notebook->jupyter->datasist) (3.8.1)\n",
            "Requirement already satisfied: webencodings in /usr/local/lib/python3.7/dist-packages (from bleach->nbconvert->jupyter->datasist) (0.5.1)\n",
            "Requirement already satisfied: click in /usr/local/lib/python3.7/dist-packages (from nltk->datasist) (7.1.2)\n",
            "Requirement already satisfied: tqdm in /usr/local/lib/python3.7/dist-packages (from nltk->datasist) (4.64.0)\n",
            "Requirement already satisfied: regex>=2021.8.3 in /usr/local/lib/python3.7/dist-packages (from nltk->datasist) (2022.6.2)\n",
            "Requirement already satisfied: pytz>=2017.3 in /usr/local/lib/python3.7/dist-packages (from pandas->datasist) (2022.2.1)\n",
            "Collecting qtpy>=2.0.1\n",
            "  Downloading QtPy-2.2.0-py3-none-any.whl (82 kB)\n",
            "\u001b[K     |████████████████████████████████| 82 kB 559 kB/s \n",
            "\u001b[?25hRequirement already satisfied: packaging in /usr/local/lib/python3.7/dist-packages (from qtpy>=2.0.1->qtconsole->jupyter->datasist) (21.3)\n",
            "Requirement already satisfied: threadpoolctl>=2.0.0 in /usr/local/lib/python3.7/dist-packages (from scikit-learn->datasist) (3.1.0)\n",
            "Requirement already satisfied: scipy>=1.1.0 in /usr/local/lib/python3.7/dist-packages (from scikit-learn->datasist) (1.7.3)\n",
            "Installing collected packages: jedi, qtpy, qtconsole, jupyter, datasist\n",
            "Successfully installed datasist-1.5.3 jedi-0.18.1 jupyter-1.0.0 qtconsole-5.3.2 qtpy-2.2.0\n"
          ]
        }
      ],
      "source": [
        "import pandas as pd\n",
        "import seaborn as sns\n",
        "from sklearn.impute import SimpleImputer\n",
        "from imblearn.over_sampling import SMOTE\n",
        "from sklearn.preprocessing import StandardScaler\n",
        "!pip install datasist\n",
        "from datasist.structdata import detect_outliers\n",
        "from sklearn.model_selection import train_test_split\n",
        "from xgboost import XGBClassifier\n",
        "from sklearn.model_selection import GridSearchCV\n",
        "from sklearn.metrics import confusion_matrix, accuracy_score\n",
        "import joblib\n",
        "sns.set(rc={'figure.figsize':(15,10)})"
      ]
    },
    {
      "cell_type": "code",
      "execution_count": 2,
      "id": "1d2b6c0e",
      "metadata": {
        "execution": {
          "iopub.execute_input": "2022-05-17T09:49:59.982605Z",
          "iopub.status.busy": "2022-05-17T09:49:59.981686Z",
          "iopub.status.idle": "2022-05-17T09:50:00.096515Z",
          "shell.execute_reply": "2022-05-17T09:50:00.094118Z"
        },
        "id": "1d2b6c0e",
        "outputId": "ea3cfd53-47e2-49df-a992-e71fe7bdc5ee",
        "papermill": {
          "duration": 0.162858,
          "end_time": "2022-05-17T09:50:00.098618",
          "exception": false,
          "start_time": "2022-05-17T09:49:59.935760",
          "status": "completed"
        },
        "tags": [],
        "colab": {
          "base_uri": "https://localhost:8080/",
          "height": 386
        }
      },
      "outputs": [
        {
          "output_type": "execute_result",
          "data": {
            "text/plain": [
              "   CLIENTNUM     Attrition_Flag  Customer_Age Gender  Dependent_count  \\\n",
              "0  768805383  Existing Customer            45      M                3   \n",
              "1  818770008  Existing Customer            49      F                5   \n",
              "2  713982108  Existing Customer            51      M                3   \n",
              "3  769911858  Existing Customer            40      F                4   \n",
              "4  709106358  Existing Customer            40      M                3   \n",
              "\n",
              "  Education_Level Marital_Status Income_Category Card_Category  \\\n",
              "0     High School        Married     $60K - $80K          Blue   \n",
              "1        Graduate         Single  Less than $40K          Blue   \n",
              "2        Graduate        Married    $80K - $120K          Blue   \n",
              "3     High School        Unknown  Less than $40K          Blue   \n",
              "4      Uneducated        Married     $60K - $80K          Blue   \n",
              "\n",
              "   Months_on_book  ...  Months_Inactive_12_mon  Contacts_Count_12_mon  \\\n",
              "0              39  ...                       1                      3   \n",
              "1              44  ...                       1                      2   \n",
              "2              36  ...                       1                      0   \n",
              "3              34  ...                       4                      1   \n",
              "4              21  ...                       1                      0   \n",
              "\n",
              "   Credit_Limit  Total_Revolving_Bal  Avg_Open_To_Buy  Total_Amt_Chng_Q4_Q1  \\\n",
              "0       12691.0                  777          11914.0                 1.335   \n",
              "1        8256.0                  864           7392.0                 1.541   \n",
              "2        3418.0                    0           3418.0                 2.594   \n",
              "3        3313.0                 2517            796.0                 1.405   \n",
              "4        4716.0                    0           4716.0                 2.175   \n",
              "\n",
              "   Total_Trans_Amt  Total_Trans_Ct  Total_Ct_Chng_Q4_Q1  Avg_Utilization_Ratio  \n",
              "0             1144              42                1.625                  0.061  \n",
              "1             1291              33                3.714                  0.105  \n",
              "2             1887              20                2.333                  0.000  \n",
              "3             1171              20                2.333                  0.760  \n",
              "4              816              28                2.500                  0.000  \n",
              "\n",
              "[5 rows x 21 columns]"
            ],
            "text/html": [
              "\n",
              "  <div id=\"df-a27855b7-e8e5-47b1-b84d-3749a331540a\">\n",
              "    <div class=\"colab-df-container\">\n",
              "      <div>\n",
              "<style scoped>\n",
              "    .dataframe tbody tr th:only-of-type {\n",
              "        vertical-align: middle;\n",
              "    }\n",
              "\n",
              "    .dataframe tbody tr th {\n",
              "        vertical-align: top;\n",
              "    }\n",
              "\n",
              "    .dataframe thead th {\n",
              "        text-align: right;\n",
              "    }\n",
              "</style>\n",
              "<table border=\"1\" class=\"dataframe\">\n",
              "  <thead>\n",
              "    <tr style=\"text-align: right;\">\n",
              "      <th></th>\n",
              "      <th>CLIENTNUM</th>\n",
              "      <th>Attrition_Flag</th>\n",
              "      <th>Customer_Age</th>\n",
              "      <th>Gender</th>\n",
              "      <th>Dependent_count</th>\n",
              "      <th>Education_Level</th>\n",
              "      <th>Marital_Status</th>\n",
              "      <th>Income_Category</th>\n",
              "      <th>Card_Category</th>\n",
              "      <th>Months_on_book</th>\n",
              "      <th>...</th>\n",
              "      <th>Months_Inactive_12_mon</th>\n",
              "      <th>Contacts_Count_12_mon</th>\n",
              "      <th>Credit_Limit</th>\n",
              "      <th>Total_Revolving_Bal</th>\n",
              "      <th>Avg_Open_To_Buy</th>\n",
              "      <th>Total_Amt_Chng_Q4_Q1</th>\n",
              "      <th>Total_Trans_Amt</th>\n",
              "      <th>Total_Trans_Ct</th>\n",
              "      <th>Total_Ct_Chng_Q4_Q1</th>\n",
              "      <th>Avg_Utilization_Ratio</th>\n",
              "    </tr>\n",
              "  </thead>\n",
              "  <tbody>\n",
              "    <tr>\n",
              "      <th>0</th>\n",
              "      <td>768805383</td>\n",
              "      <td>Existing Customer</td>\n",
              "      <td>45</td>\n",
              "      <td>M</td>\n",
              "      <td>3</td>\n",
              "      <td>High School</td>\n",
              "      <td>Married</td>\n",
              "      <td>$60K - $80K</td>\n",
              "      <td>Blue</td>\n",
              "      <td>39</td>\n",
              "      <td>...</td>\n",
              "      <td>1</td>\n",
              "      <td>3</td>\n",
              "      <td>12691.0</td>\n",
              "      <td>777</td>\n",
              "      <td>11914.0</td>\n",
              "      <td>1.335</td>\n",
              "      <td>1144</td>\n",
              "      <td>42</td>\n",
              "      <td>1.625</td>\n",
              "      <td>0.061</td>\n",
              "    </tr>\n",
              "    <tr>\n",
              "      <th>1</th>\n",
              "      <td>818770008</td>\n",
              "      <td>Existing Customer</td>\n",
              "      <td>49</td>\n",
              "      <td>F</td>\n",
              "      <td>5</td>\n",
              "      <td>Graduate</td>\n",
              "      <td>Single</td>\n",
              "      <td>Less than $40K</td>\n",
              "      <td>Blue</td>\n",
              "      <td>44</td>\n",
              "      <td>...</td>\n",
              "      <td>1</td>\n",
              "      <td>2</td>\n",
              "      <td>8256.0</td>\n",
              "      <td>864</td>\n",
              "      <td>7392.0</td>\n",
              "      <td>1.541</td>\n",
              "      <td>1291</td>\n",
              "      <td>33</td>\n",
              "      <td>3.714</td>\n",
              "      <td>0.105</td>\n",
              "    </tr>\n",
              "    <tr>\n",
              "      <th>2</th>\n",
              "      <td>713982108</td>\n",
              "      <td>Existing Customer</td>\n",
              "      <td>51</td>\n",
              "      <td>M</td>\n",
              "      <td>3</td>\n",
              "      <td>Graduate</td>\n",
              "      <td>Married</td>\n",
              "      <td>$80K - $120K</td>\n",
              "      <td>Blue</td>\n",
              "      <td>36</td>\n",
              "      <td>...</td>\n",
              "      <td>1</td>\n",
              "      <td>0</td>\n",
              "      <td>3418.0</td>\n",
              "      <td>0</td>\n",
              "      <td>3418.0</td>\n",
              "      <td>2.594</td>\n",
              "      <td>1887</td>\n",
              "      <td>20</td>\n",
              "      <td>2.333</td>\n",
              "      <td>0.000</td>\n",
              "    </tr>\n",
              "    <tr>\n",
              "      <th>3</th>\n",
              "      <td>769911858</td>\n",
              "      <td>Existing Customer</td>\n",
              "      <td>40</td>\n",
              "      <td>F</td>\n",
              "      <td>4</td>\n",
              "      <td>High School</td>\n",
              "      <td>Unknown</td>\n",
              "      <td>Less than $40K</td>\n",
              "      <td>Blue</td>\n",
              "      <td>34</td>\n",
              "      <td>...</td>\n",
              "      <td>4</td>\n",
              "      <td>1</td>\n",
              "      <td>3313.0</td>\n",
              "      <td>2517</td>\n",
              "      <td>796.0</td>\n",
              "      <td>1.405</td>\n",
              "      <td>1171</td>\n",
              "      <td>20</td>\n",
              "      <td>2.333</td>\n",
              "      <td>0.760</td>\n",
              "    </tr>\n",
              "    <tr>\n",
              "      <th>4</th>\n",
              "      <td>709106358</td>\n",
              "      <td>Existing Customer</td>\n",
              "      <td>40</td>\n",
              "      <td>M</td>\n",
              "      <td>3</td>\n",
              "      <td>Uneducated</td>\n",
              "      <td>Married</td>\n",
              "      <td>$60K - $80K</td>\n",
              "      <td>Blue</td>\n",
              "      <td>21</td>\n",
              "      <td>...</td>\n",
              "      <td>1</td>\n",
              "      <td>0</td>\n",
              "      <td>4716.0</td>\n",
              "      <td>0</td>\n",
              "      <td>4716.0</td>\n",
              "      <td>2.175</td>\n",
              "      <td>816</td>\n",
              "      <td>28</td>\n",
              "      <td>2.500</td>\n",
              "      <td>0.000</td>\n",
              "    </tr>\n",
              "  </tbody>\n",
              "</table>\n",
              "<p>5 rows × 21 columns</p>\n",
              "</div>\n",
              "      <button class=\"colab-df-convert\" onclick=\"convertToInteractive('df-a27855b7-e8e5-47b1-b84d-3749a331540a')\"\n",
              "              title=\"Convert this dataframe to an interactive table.\"\n",
              "              style=\"display:none;\">\n",
              "        \n",
              "  <svg xmlns=\"http://www.w3.org/2000/svg\" height=\"24px\"viewBox=\"0 0 24 24\"\n",
              "       width=\"24px\">\n",
              "    <path d=\"M0 0h24v24H0V0z\" fill=\"none\"/>\n",
              "    <path d=\"M18.56 5.44l.94 2.06.94-2.06 2.06-.94-2.06-.94-.94-2.06-.94 2.06-2.06.94zm-11 1L8.5 8.5l.94-2.06 2.06-.94-2.06-.94L8.5 2.5l-.94 2.06-2.06.94zm10 10l.94 2.06.94-2.06 2.06-.94-2.06-.94-.94-2.06-.94 2.06-2.06.94z\"/><path d=\"M17.41 7.96l-1.37-1.37c-.4-.4-.92-.59-1.43-.59-.52 0-1.04.2-1.43.59L10.3 9.45l-7.72 7.72c-.78.78-.78 2.05 0 2.83L4 21.41c.39.39.9.59 1.41.59.51 0 1.02-.2 1.41-.59l7.78-7.78 2.81-2.81c.8-.78.8-2.07 0-2.86zM5.41 20L4 18.59l7.72-7.72 1.47 1.35L5.41 20z\"/>\n",
              "  </svg>\n",
              "      </button>\n",
              "      \n",
              "  <style>\n",
              "    .colab-df-container {\n",
              "      display:flex;\n",
              "      flex-wrap:wrap;\n",
              "      gap: 12px;\n",
              "    }\n",
              "\n",
              "    .colab-df-convert {\n",
              "      background-color: #E8F0FE;\n",
              "      border: none;\n",
              "      border-radius: 50%;\n",
              "      cursor: pointer;\n",
              "      display: none;\n",
              "      fill: #1967D2;\n",
              "      height: 32px;\n",
              "      padding: 0 0 0 0;\n",
              "      width: 32px;\n",
              "    }\n",
              "\n",
              "    .colab-df-convert:hover {\n",
              "      background-color: #E2EBFA;\n",
              "      box-shadow: 0px 1px 2px rgba(60, 64, 67, 0.3), 0px 1px 3px 1px rgba(60, 64, 67, 0.15);\n",
              "      fill: #174EA6;\n",
              "    }\n",
              "\n",
              "    [theme=dark] .colab-df-convert {\n",
              "      background-color: #3B4455;\n",
              "      fill: #D2E3FC;\n",
              "    }\n",
              "\n",
              "    [theme=dark] .colab-df-convert:hover {\n",
              "      background-color: #434B5C;\n",
              "      box-shadow: 0px 1px 3px 1px rgba(0, 0, 0, 0.15);\n",
              "      filter: drop-shadow(0px 1px 2px rgba(0, 0, 0, 0.3));\n",
              "      fill: #FFFFFF;\n",
              "    }\n",
              "  </style>\n",
              "\n",
              "      <script>\n",
              "        const buttonEl =\n",
              "          document.querySelector('#df-a27855b7-e8e5-47b1-b84d-3749a331540a button.colab-df-convert');\n",
              "        buttonEl.style.display =\n",
              "          google.colab.kernel.accessAllowed ? 'block' : 'none';\n",
              "\n",
              "        async function convertToInteractive(key) {\n",
              "          const element = document.querySelector('#df-a27855b7-e8e5-47b1-b84d-3749a331540a');\n",
              "          const dataTable =\n",
              "            await google.colab.kernel.invokeFunction('convertToInteractive',\n",
              "                                                     [key], {});\n",
              "          if (!dataTable) return;\n",
              "\n",
              "          const docLinkHtml = 'Like what you see? Visit the ' +\n",
              "            '<a target=\"_blank\" href=https://colab.research.google.com/notebooks/data_table.ipynb>data table notebook</a>'\n",
              "            + ' to learn more about interactive tables.';\n",
              "          element.innerHTML = '';\n",
              "          dataTable['output_type'] = 'display_data';\n",
              "          await google.colab.output.renderOutput(dataTable, element);\n",
              "          const docLink = document.createElement('div');\n",
              "          docLink.innerHTML = docLinkHtml;\n",
              "          element.appendChild(docLink);\n",
              "        }\n",
              "      </script>\n",
              "    </div>\n",
              "  </div>\n",
              "  "
            ]
          },
          "metadata": {},
          "execution_count": 2
        }
      ],
      "source": [
        "df = pd.read_csv('/content/BankChurners.csv')\n",
        "df.head()"
      ]
    },
    {
      "cell_type": "code",
      "execution_count": 3,
      "id": "88e05bb0",
      "metadata": {
        "execution": {
          "iopub.execute_input": "2022-05-17T09:50:00.183161Z",
          "iopub.status.busy": "2022-05-17T09:50:00.182890Z",
          "iopub.status.idle": "2022-05-17T09:50:00.192183Z",
          "shell.execute_reply": "2022-05-17T09:50:00.191389Z"
        },
        "id": "88e05bb0",
        "papermill": {
          "duration": 0.051144,
          "end_time": "2022-05-17T09:50:00.194039",
          "exception": false,
          "start_time": "2022-05-17T09:50:00.142895",
          "status": "completed"
        },
        "tags": []
      },
      "outputs": [],
      "source": [
        "df.drop(['CLIENTNUM'], axis=1, inplace=True)"
      ]
    },
    {
      "cell_type": "code",
      "execution_count": 4,
      "id": "a84f7d85",
      "metadata": {
        "execution": {
          "iopub.execute_input": "2022-05-17T09:50:00.274375Z",
          "iopub.status.busy": "2022-05-17T09:50:00.273583Z",
          "iopub.status.idle": "2022-05-17T09:50:00.303494Z",
          "shell.execute_reply": "2022-05-17T09:50:00.302093Z"
        },
        "id": "a84f7d85",
        "outputId": "beb71d73-efe6-4c7b-bc34-5fcb041fbae2",
        "papermill": {
          "duration": 0.073024,
          "end_time": "2022-05-17T09:50:00.306673",
          "exception": false,
          "start_time": "2022-05-17T09:50:00.233649",
          "status": "completed"
        },
        "tags": [],
        "colab": {
          "base_uri": "https://localhost:8080/"
        }
      },
      "outputs": [
        {
          "output_type": "stream",
          "name": "stdout",
          "text": [
            "<class 'pandas.core.frame.DataFrame'>\n",
            "RangeIndex: 10127 entries, 0 to 10126\n",
            "Data columns (total 20 columns):\n",
            " #   Column                    Non-Null Count  Dtype  \n",
            "---  ------                    --------------  -----  \n",
            " 0   Attrition_Flag            10127 non-null  object \n",
            " 1   Customer_Age              10127 non-null  int64  \n",
            " 2   Gender                    10127 non-null  object \n",
            " 3   Dependent_count           10127 non-null  int64  \n",
            " 4   Education_Level           10127 non-null  object \n",
            " 5   Marital_Status            10127 non-null  object \n",
            " 6   Income_Category           10127 non-null  object \n",
            " 7   Card_Category             10127 non-null  object \n",
            " 8   Months_on_book            10127 non-null  int64  \n",
            " 9   Total_Relationship_Count  10127 non-null  int64  \n",
            " 10  Months_Inactive_12_mon    10127 non-null  int64  \n",
            " 11  Contacts_Count_12_mon     10127 non-null  int64  \n",
            " 12  Credit_Limit              10127 non-null  float64\n",
            " 13  Total_Revolving_Bal       10127 non-null  int64  \n",
            " 14  Avg_Open_To_Buy           10127 non-null  float64\n",
            " 15  Total_Amt_Chng_Q4_Q1      10127 non-null  float64\n",
            " 16  Total_Trans_Amt           10127 non-null  int64  \n",
            " 17  Total_Trans_Ct            10127 non-null  int64  \n",
            " 18  Total_Ct_Chng_Q4_Q1       10127 non-null  float64\n",
            " 19  Avg_Utilization_Ratio     10127 non-null  float64\n",
            "dtypes: float64(5), int64(9), object(6)\n",
            "memory usage: 1.5+ MB\n"
          ]
        }
      ],
      "source": [
        "df.info()"
      ]
    },
    {
      "cell_type": "markdown",
      "id": "fe8d39a3",
      "metadata": {
        "id": "fe8d39a3",
        "papermill": {
          "duration": 0.04051,
          "end_time": "2022-05-17T09:50:00.391196",
          "exception": false,
          "start_time": "2022-05-17T09:50:00.350686",
          "status": "completed"
        },
        "tags": []
      },
      "source": [
        "No missing value"
      ]
    },
    {
      "cell_type": "markdown",
      "id": "77ef8403",
      "metadata": {
        "id": "77ef8403",
        "papermill": {
          "duration": 0.038759,
          "end_time": "2022-05-17T09:50:00.469480",
          "exception": false,
          "start_time": "2022-05-17T09:50:00.430721",
          "status": "completed"
        },
        "tags": []
      },
      "source": [
        "# Categories data"
      ]
    },
    {
      "cell_type": "code",
      "execution_count": 5,
      "id": "50ca6e0c",
      "metadata": {
        "execution": {
          "iopub.execute_input": "2022-05-17T09:50:00.549707Z",
          "iopub.status.busy": "2022-05-17T09:50:00.548981Z",
          "iopub.status.idle": "2022-05-17T09:50:00.552869Z",
          "shell.execute_reply": "2022-05-17T09:50:00.552148Z"
        },
        "id": "50ca6e0c",
        "papermill": {
          "duration": 0.045729,
          "end_time": "2022-05-17T09:50:00.554617",
          "exception": false,
          "start_time": "2022-05-17T09:50:00.508888",
          "status": "completed"
        },
        "tags": []
      },
      "outputs": [],
      "source": [
        "cat_cols = ['Gender','Education_Level', 'Marital_Status', 'Income_Category', 'Card_Category']"
      ]
    },
    {
      "cell_type": "code",
      "execution_count": 6,
      "id": "c0e5eef4",
      "metadata": {
        "execution": {
          "iopub.execute_input": "2022-05-17T09:50:00.634928Z",
          "iopub.status.busy": "2022-05-17T09:50:00.634160Z",
          "iopub.status.idle": "2022-05-17T09:50:00.655935Z",
          "shell.execute_reply": "2022-05-17T09:50:00.655143Z"
        },
        "id": "c0e5eef4",
        "papermill": {
          "duration": 0.065242,
          "end_time": "2022-05-17T09:50:00.658611",
          "exception": false,
          "start_time": "2022-05-17T09:50:00.593369",
          "status": "completed"
        },
        "tags": []
      },
      "outputs": [],
      "source": [
        "imputer = SimpleImputer(strategy='most_frequent', missing_values='Unknown')\n",
        "\n",
        "df[cat_cols] = imputer.fit_transform(df[cat_cols])"
      ]
    },
    {
      "cell_type": "code",
      "execution_count": 7,
      "id": "43d9cb1c",
      "metadata": {
        "execution": {
          "iopub.execute_input": "2022-05-17T09:50:00.738027Z",
          "iopub.status.busy": "2022-05-17T09:50:00.737758Z",
          "iopub.status.idle": "2022-05-17T09:50:00.750075Z",
          "shell.execute_reply": "2022-05-17T09:50:00.748724Z"
        },
        "id": "43d9cb1c",
        "outputId": "d747ca56-2192-4e7c-a99c-b7550b8bf64c",
        "papermill": {
          "duration": 0.054688,
          "end_time": "2022-05-17T09:50:00.752475",
          "exception": false,
          "start_time": "2022-05-17T09:50:00.697787",
          "status": "completed"
        },
        "tags": [],
        "colab": {
          "base_uri": "https://localhost:8080/"
        }
      },
      "outputs": [
        {
          "output_type": "stream",
          "name": "stdout",
          "text": [
            "Gender\n",
            "['M' 'F']\n",
            "-------------------------\n",
            "Education_Level\n",
            "['High School' 'Graduate' 'Uneducated' 'College' 'Post-Graduate'\n",
            " 'Doctorate']\n",
            "-------------------------\n",
            "Marital_Status\n",
            "['Married' 'Single' 'Divorced']\n",
            "-------------------------\n",
            "Income_Category\n",
            "['$60K - $80K' 'Less than $40K' '$80K - $120K' '$40K - $60K' '$120K +']\n",
            "-------------------------\n",
            "Card_Category\n",
            "['Blue' 'Gold' 'Silver' 'Platinum']\n",
            "-------------------------\n"
          ]
        }
      ],
      "source": [
        "for i in cat_cols:\n",
        "  print(i)\n",
        "  print(df[i].unique())\n",
        "  print('-'*25)"
      ]
    },
    {
      "cell_type": "code",
      "execution_count": 8,
      "id": "95cc35bc",
      "metadata": {
        "execution": {
          "iopub.execute_input": "2022-05-17T09:50:00.835207Z",
          "iopub.status.busy": "2022-05-17T09:50:00.834924Z",
          "iopub.status.idle": "2022-05-17T09:50:00.852392Z",
          "shell.execute_reply": "2022-05-17T09:50:00.851506Z"
        },
        "id": "95cc35bc",
        "papermill": {
          "duration": 0.060729,
          "end_time": "2022-05-17T09:50:00.854801",
          "exception": false,
          "start_time": "2022-05-17T09:50:00.794072",
          "status": "completed"
        },
        "tags": []
      },
      "outputs": [],
      "source": [
        "df = pd.get_dummies(df, columns=cat_cols, drop_first=True)"
      ]
    },
    {
      "cell_type": "markdown",
      "id": "68ae2d95",
      "metadata": {
        "id": "68ae2d95",
        "papermill": {
          "duration": 0.044586,
          "end_time": "2022-05-17T09:50:00.943372",
          "exception": false,
          "start_time": "2022-05-17T09:50:00.898786",
          "status": "completed"
        },
        "tags": []
      },
      "source": [
        "# Numerical data"
      ]
    },
    {
      "cell_type": "code",
      "execution_count": 9,
      "id": "2909481a",
      "metadata": {
        "execution": {
          "iopub.execute_input": "2022-05-17T09:50:01.034058Z",
          "iopub.status.busy": "2022-05-17T09:50:01.033770Z",
          "iopub.status.idle": "2022-05-17T09:50:01.038214Z",
          "shell.execute_reply": "2022-05-17T09:50:01.037428Z"
        },
        "id": "2909481a",
        "papermill": {
          "duration": 0.052716,
          "end_time": "2022-05-17T09:50:01.040106",
          "exception": false,
          "start_time": "2022-05-17T09:50:00.987390",
          "status": "completed"
        },
        "tags": []
      },
      "outputs": [],
      "source": [
        "num_cols = ['Customer_Age', 'Months_on_book', 'Total_Relationship_Count', 'Months_Inactive_12_mon',\n",
        "            'Contacts_Count_12_mon', 'Credit_Limit', 'Total_Revolving_Bal', 'Dependent_count',\n",
        "            'Avg_Open_To_Buy', 'Total_Amt_Chng_Q4_Q1', 'Total_Trans_Amt',\n",
        "            'Total_Trans_Ct', 'Total_Ct_Chng_Q4_Q1', 'Avg_Utilization_Ratio']\n"
      ]
    },
    {
      "cell_type": "code",
      "execution_count": 10,
      "id": "01e29145",
      "metadata": {
        "execution": {
          "iopub.execute_input": "2022-05-17T09:50:01.126455Z",
          "iopub.status.busy": "2022-05-17T09:50:01.125914Z",
          "iopub.status.idle": "2022-05-17T09:50:01.157834Z",
          "shell.execute_reply": "2022-05-17T09:50:01.156913Z"
        },
        "id": "01e29145",
        "papermill": {
          "duration": 0.078125,
          "end_time": "2022-05-17T09:50:01.160375",
          "exception": false,
          "start_time": "2022-05-17T09:50:01.082250",
          "status": "completed"
        },
        "tags": []
      },
      "outputs": [],
      "source": [
        "indces = detect_outliers(df, n=0, features=num_cols)"
      ]
    },
    {
      "cell_type": "code",
      "execution_count": 11,
      "id": "c7ca7bbc",
      "metadata": {
        "execution": {
          "iopub.execute_input": "2022-05-17T09:50:01.251002Z",
          "iopub.status.busy": "2022-05-17T09:50:01.250401Z",
          "iopub.status.idle": "2022-05-17T09:50:01.298212Z",
          "shell.execute_reply": "2022-05-17T09:50:01.297353Z"
        },
        "id": "c7ca7bbc",
        "papermill": {
          "duration": 0.093768,
          "end_time": "2022-05-17T09:50:01.300718",
          "exception": false,
          "start_time": "2022-05-17T09:50:01.206950",
          "status": "completed"
        },
        "tags": []
      },
      "outputs": [],
      "source": [
        "for i in num_cols:\n",
        "    indecs = detect_outliers(df, n=0, features=[i])\n",
        "    df.loc[indecs, i] = df[i].median()"
      ]
    },
    {
      "cell_type": "code",
      "execution_count": 12,
      "id": "d1abd875",
      "metadata": {
        "execution": {
          "iopub.execute_input": "2022-05-17T09:50:01.392233Z",
          "iopub.status.busy": "2022-05-17T09:50:01.391940Z",
          "iopub.status.idle": "2022-05-17T09:50:01.398251Z",
          "shell.execute_reply": "2022-05-17T09:50:01.397445Z"
        },
        "id": "d1abd875",
        "outputId": "f4d48191-270a-4d4a-e19b-7429c57a3a88",
        "papermill": {
          "duration": 0.053043,
          "end_time": "2022-05-17T09:50:01.400619",
          "exception": false,
          "start_time": "2022-05-17T09:50:01.347576",
          "status": "completed"
        },
        "tags": [],
        "colab": {
          "base_uri": "https://localhost:8080/"
        }
      },
      "outputs": [
        {
          "output_type": "execute_result",
          "data": {
            "text/plain": [
              "Index(['Attrition_Flag', 'Customer_Age', 'Dependent_count', 'Months_on_book',\n",
              "       'Total_Relationship_Count', 'Months_Inactive_12_mon',\n",
              "       'Contacts_Count_12_mon', 'Credit_Limit', 'Total_Revolving_Bal',\n",
              "       'Avg_Open_To_Buy', 'Total_Amt_Chng_Q4_Q1', 'Total_Trans_Amt',\n",
              "       'Total_Trans_Ct', 'Total_Ct_Chng_Q4_Q1', 'Avg_Utilization_Ratio',\n",
              "       'Gender_M', 'Education_Level_Doctorate', 'Education_Level_Graduate',\n",
              "       'Education_Level_High School', 'Education_Level_Post-Graduate',\n",
              "       'Education_Level_Uneducated', 'Marital_Status_Married',\n",
              "       'Marital_Status_Single', 'Income_Category_$40K - $60K',\n",
              "       'Income_Category_$60K - $80K', 'Income_Category_$80K - $120K',\n",
              "       'Income_Category_Less than $40K', 'Card_Category_Gold',\n",
              "       'Card_Category_Platinum', 'Card_Category_Silver'],\n",
              "      dtype='object')"
            ]
          },
          "metadata": {},
          "execution_count": 12
        }
      ],
      "source": [
        "df.columns"
      ]
    },
    {
      "cell_type": "markdown",
      "id": "5bff7861",
      "metadata": {
        "id": "5bff7861",
        "papermill": {
          "duration": 0.039786,
          "end_time": "2022-05-17T09:50:01.482315",
          "exception": false,
          "start_time": "2022-05-17T09:50:01.442529",
          "status": "completed"
        },
        "tags": []
      },
      "source": [
        "# Correlation between numerical data"
      ]
    },
    {
      "cell_type": "code",
      "execution_count": 13,
      "id": "b48ea94c",
      "metadata": {
        "execution": {
          "iopub.execute_input": "2022-05-17T09:50:01.563896Z",
          "iopub.status.busy": "2022-05-17T09:50:01.563619Z",
          "iopub.status.idle": "2022-05-17T09:50:02.757067Z",
          "shell.execute_reply": "2022-05-17T09:50:02.756257Z"
        },
        "id": "b48ea94c",
        "outputId": "20dc0a93-6d07-4bb7-8c5b-19b4315fd1e8",
        "papermill": {
          "duration": 1.23841,
          "end_time": "2022-05-17T09:50:02.761228",
          "exception": false,
          "start_time": "2022-05-17T09:50:01.522818",
          "status": "completed"
        },
        "tags": [],
        "colab": {
          "base_uri": "https://localhost:8080/",
          "height": 727
        }
      },
      "outputs": [
        {
          "output_type": "display_data",
          "data": {
            "text/plain": [
              "<Figure size 1080x720 with 2 Axes>"
            ],
            "image/png": "[encoded data removed]"
          },
          "metadata": {}
        }
      ],
      "source": [
        "sns.heatmap(df[num_cols].corr(), annot=True);"
      ]
    },
    {
      "cell_type": "markdown",
      "id": "04c138b3",
      "metadata": {
        "id": "04c138b3",
        "papermill": {
          "duration": 0.044442,
          "end_time": "2022-05-17T09:50:02.850947",
          "exception": false,
          "start_time": "2022-05-17T09:50:02.806505",
          "status": "completed"
        },
        "tags": []
      },
      "source": [
        "- Customer_Age and Months_on_book are highly positively correlated.\n",
        "- Credit_Limit and Avg_Open_To_Buy are highly positively correlated.\n",
        "- ToalTrans_Ct and Total_Trans_Amt are positively correlated.\n",
        "- Credit_Limit and Avg_Utilization_Ratio are negatively correlated.\n",
        "- Avg_Open_To_Buy and Avg_Utilization_Ratio are negatively correlated."
      ]
    },
    {
      "cell_type": "markdown",
      "id": "536f13ed",
      "metadata": {
        "id": "536f13ed",
        "papermill": {
          "duration": 0.046938,
          "end_time": "2022-05-17T09:50:02.946146",
          "exception": false,
          "start_time": "2022-05-17T09:50:02.899208",
          "status": "completed"
        },
        "tags": []
      },
      "source": [
        "# split into x and y"
      ]
    },
    {
      "cell_type": "code",
      "execution_count": 36,
      "id": "4cff9f5a",
      "metadata": {
        "execution": {
          "iopub.execute_input": "2022-05-17T09:50:03.041225Z",
          "iopub.status.busy": "2022-05-17T09:50:03.040935Z",
          "iopub.status.idle": "2022-05-17T09:50:03.047376Z",
          "shell.execute_reply": "2022-05-17T09:50:03.046483Z"
        },
        "id": "4cff9f5a",
        "papermill": {
          "duration": 0.055906,
          "end_time": "2022-05-17T09:50:03.049348",
          "exception": false,
          "start_time": "2022-05-17T09:50:02.993442",
          "status": "completed"
        },
        "tags": []
      },
      "outputs": [],
      "source": [
        "x = df.drop('Attrition_Flag', axis=1)\n",
        "y = df['Attrition_Flag']"
      ]
    },
    {
      "cell_type": "code",
      "execution_count": 37,
      "id": "5ec98c66",
      "metadata": {
        "execution": {
          "iopub.execute_input": "2022-05-17T09:50:03.156504Z",
          "iopub.status.busy": "2022-05-17T09:50:03.156218Z",
          "iopub.status.idle": "2022-05-17T09:50:03.167706Z",
          "shell.execute_reply": "2022-05-17T09:50:03.166845Z"
        },
        "id": "5ec98c66",
        "papermill": {
          "duration": 0.068941,
          "end_time": "2022-05-17T09:50:03.169785",
          "exception": false,
          "start_time": "2022-05-17T09:50:03.100844",
          "status": "completed"
        },
        "tags": []
      },
      "outputs": [],
      "source": [
        "# change y to be just one column contain of 1 if the preson leave or 0 if no\n",
        "y = y.apply(lambda str: 0 if str == 'Existing Customer' else 1)"
      ]
    },
    {
      "cell_type": "markdown",
      "id": "42132e98",
      "metadata": {
        "papermill": {
          "duration": 0.04431,
          "end_time": "2022-05-17T09:50:03.912880",
          "exception": false,
          "start_time": "2022-05-17T09:50:03.868570",
          "status": "completed"
        },
        "tags": [],
        "id": "42132e98"
      },
      "source": [
        "## Split data"
      ]
    },
    {
      "cell_type": "code",
      "execution_count": 38,
      "id": "6f0d38d7",
      "metadata": {
        "execution": {
          "iopub.execute_input": "2022-05-17T09:50:04.005208Z",
          "iopub.status.busy": "2022-05-17T09:50:04.004928Z",
          "iopub.status.idle": "2022-05-17T09:50:04.021508Z",
          "shell.execute_reply": "2022-05-17T09:50:04.020715Z"
        },
        "papermill": {
          "duration": 0.065693,
          "end_time": "2022-05-17T09:50:04.023747",
          "exception": false,
          "start_time": "2022-05-17T09:50:03.958054",
          "status": "completed"
        },
        "tags": [],
        "id": "6f0d38d7"
      },
      "outputs": [],
      "source": [
        "x_train, x_test, y_train, y_test = train_test_split(x, y, test_size=0.2, random_state=42, stratify=y)"
      ]
    },
    {
      "cell_type": "code",
      "source": [
        "x_test.shape"
      ],
      "metadata": {
        "colab": {
          "base_uri": "https://localhost:8080/"
        },
        "id": "PpKrJcGuG8-u",
        "outputId": "9d571708-46ed-47fe-a3e1-509736dacb33"
      },
      "id": "PpKrJcGuG8-u",
      "execution_count": 39,
      "outputs": [
        {
          "output_type": "execute_result",
          "data": {
            "text/plain": [
              "(2026, 29)"
            ]
          },
          "metadata": {},
          "execution_count": 39
        }
      ]
    },
    {
      "cell_type": "code",
      "source": [
        "x_train.shape"
      ],
      "metadata": {
        "colab": {
          "base_uri": "https://localhost:8080/"
        },
        "id": "E41kTLepG9oH",
        "outputId": "c84cdcae-5083-4ebb-c0c1-c5cdec17ea9f"
      },
      "id": "E41kTLepG9oH",
      "execution_count": 40,
      "outputs": [
        {
          "output_type": "execute_result",
          "data": {
            "text/plain": [
              "(8101, 29)"
            ]
          },
          "metadata": {},
          "execution_count": 40
        }
      ]
    },
    {
      "cell_type": "markdown",
      "id": "4cc50c09",
      "metadata": {
        "id": "4cc50c09",
        "papermill": {
          "duration": 0.045887,
          "end_time": "2022-05-17T09:50:03.712250",
          "exception": false,
          "start_time": "2022-05-17T09:50:03.666363",
          "status": "completed"
        },
        "tags": []
      },
      "source": [
        "## Scale the data"
      ]
    },
    {
      "cell_type": "code",
      "execution_count": 41,
      "id": "f5496340",
      "metadata": {
        "execution": {
          "iopub.execute_input": "2022-05-17T09:50:03.805506Z",
          "iopub.status.busy": "2022-05-17T09:50:03.804789Z",
          "iopub.status.idle": "2022-05-17T09:50:03.822347Z",
          "shell.execute_reply": "2022-05-17T09:50:03.821567Z"
        },
        "id": "f5496340",
        "papermill": {
          "duration": 0.066646,
          "end_time": "2022-05-17T09:50:03.824488",
          "exception": false,
          "start_time": "2022-05-17T09:50:03.757842",
          "status": "completed"
        },
        "tags": []
      },
      "outputs": [],
      "source": [
        "scaler = StandardScaler()\n",
        "scaler.fit(x_train)\n",
        "x_train = scaler.transform(x_train)\n",
        "x_test = scaler.transform(x_test)"
      ]
    },
    {
      "cell_type": "markdown",
      "id": "ea24615d",
      "metadata": {
        "id": "ea24615d",
        "papermill": {
          "duration": 0.050855,
          "end_time": "2022-05-17T09:50:03.270689",
          "exception": false,
          "start_time": "2022-05-17T09:50:03.219834",
          "status": "completed"
        },
        "tags": []
      },
      "source": [
        "## Over sample the data"
      ]
    },
    {
      "cell_type": "code",
      "execution_count": 42,
      "id": "215c2a4f",
      "metadata": {
        "execution": {
          "iopub.execute_input": "2022-05-17T09:50:03.373469Z",
          "iopub.status.busy": "2022-05-17T09:50:03.373157Z",
          "iopub.status.idle": "2022-05-17T09:50:03.511726Z",
          "shell.execute_reply": "2022-05-17T09:50:03.510756Z"
        },
        "id": "215c2a4f",
        "papermill": {
          "duration": 0.193804,
          "end_time": "2022-05-17T09:50:03.515171",
          "exception": false,
          "start_time": "2022-05-17T09:50:03.321367",
          "status": "completed"
        },
        "tags": []
      },
      "outputs": [],
      "source": [
        "ros = SMOTE(sampling_strategy=0.5, random_state=42)\n",
        "X_resampled, y_resampled = ros.fit_resample(x_train, y_train)"
      ]
    },
    {
      "cell_type": "code",
      "execution_count": 43,
      "id": "0f966572",
      "metadata": {
        "execution": {
          "iopub.execute_input": "2022-05-17T09:50:03.613468Z",
          "iopub.status.busy": "2022-05-17T09:50:03.613188Z",
          "iopub.status.idle": "2022-05-17T09:50:03.618744Z",
          "shell.execute_reply": "2022-05-17T09:50:03.617993Z"
        },
        "papermill": {
          "duration": 0.054256,
          "end_time": "2022-05-17T09:50:03.621678",
          "exception": false,
          "start_time": "2022-05-17T09:50:03.567422",
          "status": "completed"
        },
        "tags": [],
        "colab": {
          "base_uri": "https://localhost:8080/"
        },
        "id": "0f966572",
        "outputId": "b4d1b998-4ae8-4dce-822e-fc1e243929e7"
      },
      "outputs": [
        {
          "output_type": "execute_result",
          "data": {
            "text/plain": [
              "(10198, 29)"
            ]
          },
          "metadata": {},
          "execution_count": 43
        }
      ],
      "source": [
        "X_resampled.shape"
      ]
    },
    {
      "cell_type": "markdown",
      "id": "6ea91eab",
      "metadata": {
        "id": "6ea91eab",
        "papermill": {
          "duration": 0.045135,
          "end_time": "2022-05-17T09:50:04.116007",
          "exception": false,
          "start_time": "2022-05-17T09:50:04.070872",
          "status": "completed"
        },
        "tags": []
      },
      "source": [
        "# Hyperparameter tuning"
      ]
    },
    {
      "cell_type": "code",
      "execution_count": 44,
      "id": "ff4a6406",
      "metadata": {
        "execution": {
          "iopub.execute_input": "2022-05-17T09:50:04.209052Z",
          "iopub.status.busy": "2022-05-17T09:50:04.208764Z",
          "iopub.status.idle": "2022-05-17T09:50:04.212524Z",
          "shell.execute_reply": "2022-05-17T09:50:04.211834Z"
        },
        "id": "ff4a6406",
        "papermill": {
          "duration": 0.052545,
          "end_time": "2022-05-17T09:50:04.214315",
          "exception": false,
          "start_time": "2022-05-17T09:50:04.161770",
          "status": "completed"
        },
        "tags": []
      },
      "outputs": [],
      "source": [
        "model = XGBClassifier(use_label_encoder=False)"
      ]
    },
    {
      "cell_type": "code",
      "execution_count": 45,
      "id": "432f6038",
      "metadata": {
        "execution": {
          "iopub.execute_input": "2022-05-17T09:50:04.318410Z",
          "iopub.status.busy": "2022-05-17T09:50:04.317800Z",
          "iopub.status.idle": "2022-05-17T09:50:04.322156Z",
          "shell.execute_reply": "2022-05-17T09:50:04.321406Z"
        },
        "id": "432f6038",
        "papermill": {
          "duration": 0.063967,
          "end_time": "2022-05-17T09:50:04.323983",
          "exception": false,
          "start_time": "2022-05-17T09:50:04.260016",
          "status": "completed"
        },
        "tags": []
      },
      "outputs": [],
      "source": [
        "params = [\n",
        "    {'booster':['gbtree', 'dart'], 'n_estimators':[100, 150, 200, 250], 'max_depth':[5, 6, 7]}\n",
        "]"
      ]
    },
    {
      "cell_type": "code",
      "execution_count": 46,
      "id": "a62992bd",
      "metadata": {
        "execution": {
          "iopub.execute_input": "2022-05-17T09:50:04.417342Z",
          "iopub.status.busy": "2022-05-17T09:50:04.417077Z",
          "iopub.status.idle": "2022-05-17T09:50:04.421369Z",
          "shell.execute_reply": "2022-05-17T09:50:04.420622Z"
        },
        "id": "a62992bd",
        "papermill": {
          "duration": 0.053949,
          "end_time": "2022-05-17T09:50:04.423263",
          "exception": false,
          "start_time": "2022-05-17T09:50:04.369314",
          "status": "completed"
        },
        "tags": []
      },
      "outputs": [],
      "source": [
        "GRD_search = GridSearchCV(estimator=model,param_grid=params, scoring='f1', n_jobs=-1, cv=10)"
      ]
    },
    {
      "cell_type": "code",
      "execution_count": 47,
      "id": "aa40b0b6",
      "metadata": {
        "execution": {
          "iopub.execute_input": "2022-05-17T09:50:04.524435Z",
          "iopub.status.busy": "2022-05-17T09:50:04.523671Z",
          "iopub.status.idle": "2022-05-17T10:35:30.152355Z",
          "shell.execute_reply": "2022-05-17T10:35:30.151432Z"
        },
        "id": "aa40b0b6",
        "outputId": "2016fa81-1f51-477d-a347-bd24226b63a0",
        "papermill": {
          "duration": 2725.730773,
          "end_time": "2022-05-17T10:35:30.203243",
          "exception": false,
          "start_time": "2022-05-17T09:50:04.472470",
          "status": "completed"
        },
        "tags": [],
        "colab": {
          "base_uri": "https://localhost:8080/"
        }
      },
      "outputs": [
        {
          "output_type": "execute_result",
          "data": {
            "text/plain": [
              "GridSearchCV(cv=10, estimator=XGBClassifier(use_label_encoder=False), n_jobs=-1,\n",
              "             param_grid=[{'booster': ['gbtree', 'dart'], 'max_depth': [5, 6, 7],\n",
              "                          'n_estimators': [100, 150, 200, 250]}],\n",
              "             scoring='f1')"
            ]
          },
          "metadata": {},
          "execution_count": 47
        }
      ],
      "source": [
        "GRD_search.fit(X_resampled,y_resampled)"
      ]
    },
    {
      "cell_type": "code",
      "execution_count": 48,
      "id": "0d462b09",
      "metadata": {
        "execution": {
          "iopub.execute_input": "2022-05-17T10:35:30.306357Z",
          "iopub.status.busy": "2022-05-17T10:35:30.306106Z",
          "iopub.status.idle": "2022-05-17T10:35:30.311477Z",
          "shell.execute_reply": "2022-05-17T10:35:30.310701Z"
        },
        "id": "0d462b09",
        "outputId": "37849cc9-a632-42da-a017-eb633c4471c2",
        "papermill": {
          "duration": 0.056119,
          "end_time": "2022-05-17T10:35:30.314399",
          "exception": false,
          "start_time": "2022-05-17T10:35:30.258280",
          "status": "completed"
        },
        "tags": [],
        "colab": {
          "base_uri": "https://localhost:8080/"
        }
      },
      "outputs": [
        {
          "output_type": "execute_result",
          "data": {
            "text/plain": [
              "{'booster': 'gbtree', 'max_depth': 6, 'n_estimators': 250}"
            ]
          },
          "metadata": {},
          "execution_count": 48
        }
      ],
      "source": [
        "GRD_search.best_params_"
      ]
    },
    {
      "cell_type": "code",
      "execution_count": 49,
      "id": "a0ce50af",
      "metadata": {
        "execution": {
          "iopub.execute_input": "2022-05-17T10:35:30.406646Z",
          "iopub.status.busy": "2022-05-17T10:35:30.406378Z",
          "iopub.status.idle": "2022-05-17T10:35:30.411528Z",
          "shell.execute_reply": "2022-05-17T10:35:30.410843Z"
        },
        "id": "a0ce50af",
        "outputId": "ddcb5781-1765-40fd-a0de-b580d16a4266",
        "papermill": {
          "duration": 0.053755,
          "end_time": "2022-05-17T10:35:30.413959",
          "exception": false,
          "start_time": "2022-05-17T10:35:30.360204",
          "status": "completed"
        },
        "tags": [],
        "colab": {
          "base_uri": "https://localhost:8080/"
        }
      },
      "outputs": [
        {
          "output_type": "execute_result",
          "data": {
            "text/plain": [
              "0.9578873365859056"
            ]
          },
          "metadata": {},
          "execution_count": 49
        }
      ],
      "source": [
        "GRD_search.best_score_"
      ]
    },
    {
      "cell_type": "code",
      "execution_count": 50,
      "id": "842dfbd7",
      "metadata": {
        "execution": {
          "iopub.execute_input": "2022-05-17T10:35:30.509875Z",
          "iopub.status.busy": "2022-05-17T10:35:30.509174Z",
          "iopub.status.idle": "2022-05-17T10:35:30.518432Z",
          "shell.execute_reply": "2022-05-17T10:35:30.517714Z"
        },
        "id": "842dfbd7",
        "outputId": "038beebe-f505-47a6-eebf-3543c4871cb6",
        "papermill": {
          "duration": 0.059664,
          "end_time": "2022-05-17T10:35:30.520399",
          "exception": false,
          "start_time": "2022-05-17T10:35:30.460735",
          "status": "completed"
        },
        "tags": [],
        "colab": {
          "base_uri": "https://localhost:8080/"
        }
      },
      "outputs": [
        {
          "output_type": "execute_result",
          "data": {
            "text/plain": [
              "XGBClassifier(max_depth=6, n_estimators=250, use_label_encoder=False)"
            ]
          },
          "metadata": {},
          "execution_count": 50
        }
      ],
      "source": [
        "model = GRD_search.best_estimator_\n",
        "model"
      ]
    },
    {
      "cell_type": "code",
      "execution_count": 51,
      "id": "890cf57c",
      "metadata": {
        "execution": {
          "iopub.execute_input": "2022-05-17T10:35:30.620719Z",
          "iopub.status.busy": "2022-05-17T10:35:30.620139Z",
          "iopub.status.idle": "2022-05-17T10:35:37.375445Z",
          "shell.execute_reply": "2022-05-17T10:35:37.374800Z"
        },
        "id": "890cf57c",
        "outputId": "c17e6a23-f2e6-4412-e52d-23582d1efe89",
        "papermill": {
          "duration": 6.806879,
          "end_time": "2022-05-17T10:35:37.377284",
          "exception": false,
          "start_time": "2022-05-17T10:35:30.570405",
          "status": "completed"
        },
        "tags": [],
        "colab": {
          "base_uri": "https://localhost:8080/"
        }
      },
      "outputs": [
        {
          "output_type": "execute_result",
          "data": {
            "text/plain": [
              "XGBClassifier(max_depth=6, n_estimators=250, use_label_encoder=False)"
            ]
          },
          "metadata": {},
          "execution_count": 51
        }
      ],
      "source": [
        "model.fit(X_resampled, y_resampled)"
      ]
    },
    {
      "cell_type": "code",
      "execution_count": 52,
      "id": "0ae23ac3",
      "metadata": {
        "execution": {
          "iopub.execute_input": "2022-05-17T10:35:37.474569Z",
          "iopub.status.busy": "2022-05-17T10:35:37.474295Z",
          "iopub.status.idle": "2022-05-17T10:35:37.565938Z",
          "shell.execute_reply": "2022-05-17T10:35:37.564933Z"
        },
        "papermill": {
          "duration": 0.144054,
          "end_time": "2022-05-17T10:35:37.569069",
          "exception": false,
          "start_time": "2022-05-17T10:35:37.425015",
          "status": "completed"
        },
        "tags": [],
        "colab": {
          "base_uri": "https://localhost:8080/"
        },
        "id": "0ae23ac3",
        "outputId": "436d33ed-6318-439a-d176-380bfa55febf"
      },
      "outputs": [
        {
          "output_type": "stream",
          "name": "stdout",
          "text": [
            "score in training data :  0.9996077662286723\n",
            "score in testing data :  0.9540967423494571\n"
          ]
        }
      ],
      "source": [
        "print(\"score in training data : \",model.score(X_resampled, y_resampled))\n",
        "pred = model.predict(x_test)\n",
        "print(\"score in testing data : \",accuracy_score(y_test, pred))"
      ]
    },
    {
      "cell_type": "code",
      "execution_count": 53,
      "id": "d11da0ce",
      "metadata": {
        "execution": {
          "iopub.execute_input": "2022-05-17T10:35:37.667359Z",
          "iopub.status.busy": "2022-05-17T10:35:37.667089Z",
          "iopub.status.idle": "2022-05-17T10:35:37.922386Z",
          "shell.execute_reply": "2022-05-17T10:35:37.921585Z"
        },
        "papermill": {
          "duration": 0.307133,
          "end_time": "2022-05-17T10:35:37.924820",
          "exception": false,
          "start_time": "2022-05-17T10:35:37.617687",
          "status": "completed"
        },
        "tags": [],
        "colab": {
          "base_uri": "https://localhost:8080/",
          "height": 594
        },
        "id": "d11da0ce",
        "outputId": "3a480a66-df04-4d50-b684-a1ef5d79e0ce"
      },
      "outputs": [
        {
          "output_type": "display_data",
          "data": {
            "text/plain": [
              "<Figure size 1080x720 with 2 Axes>"
            ],
            "image/png": "[encoded data removed]"
          },
          "metadata": {}
        }
      ],
      "source": [
        "sns.heatmap(confusion_matrix(y_test, pred), annot=True, fmt='1');"
      ]
    },
    {
      "cell_type": "code",
      "execution_count": 54,
      "id": "a9efd96b",
      "metadata": {
        "execution": {
          "iopub.execute_input": "2022-05-17T10:35:38.026010Z",
          "iopub.status.busy": "2022-05-17T10:35:38.025724Z",
          "iopub.status.idle": "2022-05-17T10:35:38.036525Z",
          "shell.execute_reply": "2022-05-17T10:35:38.035613Z"
        },
        "id": "a9efd96b",
        "outputId": "3f712134-49b8-41b3-b3ed-1c41eb3a48f4",
        "papermill": {
          "duration": 0.063167,
          "end_time": "2022-05-17T10:35:38.038705",
          "exception": false,
          "start_time": "2022-05-17T10:35:37.975538",
          "status": "completed"
        },
        "tags": [],
        "colab": {
          "base_uri": "https://localhost:8080/"
        }
      },
      "outputs": [
        {
          "output_type": "execute_result",
          "data": {
            "text/plain": [
              "['columns.h5']"
            ]
          },
          "metadata": {},
          "execution_count": 54
        }
      ],
      "source": [
        "model.save_model('model.model')\n",
        "joblib.dump(scaler, 'scaler.h5')\n",
        "joblib.dump(x.columns, 'columns.h5')"
      ]
    },
    {
      "cell_type": "code",
      "execution_count": 54,
      "id": "7e1b9edb",
      "metadata": {
        "id": "7e1b9edb",
        "papermill": {
          "duration": 0.047723,
          "end_time": "2022-05-17T10:35:38.135279",
          "exception": false,
          "start_time": "2022-05-17T10:35:38.087556",
          "status": "completed"
        },
        "tags": []
      },
      "outputs": [],
      "source": []
    }
  ],
  "metadata": {
    "interpreter": {
      "hash": "3a87835ef3302642c595255454695d8396bb68a285bd230835682c4a4880a3d8"
    },
    "kernelspec": {
      "display_name": "Python 3.10.2 64-bit",
      "language": "python",
      "name": "python3"
    },
    "language_info": {
      "codemirror_mode": {
        "name": "ipython",
        "version": 3
      },
      "file_extension": ".py",
      "mimetype": "text/x-python",
      "name": "python",
      "nbconvert_exporter": "python",
      "pygments_lexer": "ipython3",
      "version": "3.10.2"
    },
    "papermill": {
      "default_parameters": {},
      "duration": 2764.144811,
      "end_time": "2022-05-17T10:35:40.808833",
      "environment_variables": {},
      "exception": null,
      "input_path": "__notebook__.ipynb",
      "output_path": "__notebook__.ipynb",
      "parameters": {},
      "start_time": "2022-05-17T09:49:36.664022",
      "version": "2.3.4"
    },
    "colab": {
      "provenance": [],
      "collapsed_sections": []
    },
    "accelerator": "GPU",
    "gpuClass": "standard"
  },
  "nbformat": 4,
  "nbformat_minor": 5
}